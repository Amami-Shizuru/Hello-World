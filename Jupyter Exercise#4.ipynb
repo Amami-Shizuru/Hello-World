{
 "cells": [
  {
   "cell_type": "code",
   "execution_count": 283,
   "metadata": {},
   "outputs": [],
   "source": [
    "#import libraries\n",
    "\n",
    "from numpy import *\n",
    "from sklearn.datasets import load_digits\n",
    "import numpy as np\n",
    "from numpy import linalg as la\n",
    "import matplotlib.pyplot as plt\n",
    "import math"
   ]
  },
  {
   "cell_type": "code",
   "execution_count": 284,
   "metadata": {},
   "outputs": [],
   "source": [
    "images,labels=load_digits(2,return_X_y=True)\n",
    "\n",
    "# Labeled training set\n",
    "training_images=images[:300]\n",
    "training_labels=labels[:300]\n",
    "\n",
    "#Labeled test set\n",
    "test_images=images[300:]\n",
    "test_labels=labels[300:]"
   ]
  },
  {
   "cell_type": "code",
   "execution_count": 285,
   "metadata": {},
   "outputs": [],
   "source": [
    "# mean subtraction and SVD\n",
    "\n",
    "TIT=training_images.T\n",
    "mean_training=np.mean(TIT,axis=1)\n",
    "\n",
    "# training_images_bar_transpose\n",
    "\n",
    "TIBT=mat([[0 for i in range(300)]for j in range(64)])\n",
    "for i in range(300):\n",
    "    TIBT[:,i]=mat(TIT[:,i]-mean_training.T).T\n",
    "Us,Sigma,VsT=la.svd(TIBT)\n",
    "\n",
    "# compute 2D feature\n",
    "\n",
    "TIB_2D_ftr=Us[:,0:2].T*TIBT"
   ]
  },
  {
   "cell_type": "code",
   "execution_count": 286,
   "metadata": {},
   "outputs": [
    {
     "data": {
      "image/png": "[encoded data removed]",
      "text/plain": [
       "<Figure size 432x288 with 1 Axes>"
      ]
     },
     "metadata": {},
     "output_type": "display_data"
    }
   ],
   "source": [
    "for i in range(300):\n",
    "    if training_labels[i]==1:\n",
    "        plt.scatter(TIB_2D_ftr[0,i],TIB_2D_ftr[1,i],color='b')\n",
    "    else:\n",
    "        plt.scatter(TIB_2D_ftr[0,i],TIB_2D_ftr[1,i],color='r')"
   ]
  },
  {
   "cell_type": "code",
   "execution_count": 287,
   "metadata": {},
   "outputs": [],
   "source": [
    "# mean subtraction and SVD of test images\n",
    "\n",
    "testIT=test_images.T\n",
    "mean_test=np.mean(testIT,axis=1)\n",
    "\n",
    "# training_images_bar_transpose\n",
    "\n",
    "testIBT=mat([[0 for i in range(60)]for j in range(64)])\n",
    "for i in range(60):\n",
    "    testIBT[:,i]=mat(testIT[:,i]-mean_test).T\n",
    "    \n",
    "Us_test,Sigma_test,Vs_testT=la.svd(testIBT)\n",
    "\n",
    "# compute 2D feature\n",
    "\n",
    "testIB_2D_ftr=Us_test[:,0:2].T*testIBT"
   ]
  },
  {
   "cell_type": "code",
   "execution_count": 288,
   "metadata": {},
   "outputs": [],
   "source": [
    "def kNN(k,testIBftr,TIBftr):\n",
    "    labels_est=[0 for i in range(60)]\n",
    "    labels_kNN=[0 for i in range(k)]\n",
    "    Kmin_index=[0 for i in range(k)]\n",
    "    for i in range(60):\n",
    "        ED=[0 for n in range(300)]\n",
    "        for j in range(300):\n",
    "            ED[j]=la.norm(testIBftr[:,i]-TIBftr[:,j])\n",
    "        for m in range(k):\n",
    "            Kmin_index[m]=ED.index(min(ED))\n",
    "            ED[Kmin_index[m]]=1000000\n",
    "            labels_kNN[m]=training_labels[Kmin_index[m]]\n",
    "        num0=labels_kNN.count(0)\n",
    "        num1=labels_kNN.count(1)\n",
    "        if num0>num1:\n",
    "            labels_est[i]=0\n",
    "        else:\n",
    "            labels_est[i]=1\n",
    "    print(\"The estimated labels of the test images is:\",labels_est)\n",
    "    return labels_est"
   ]
  },
  {
   "cell_type": "code",
   "execution_count": 289,
   "metadata": {},
   "outputs": [],
   "source": [
    "def find_error(labels_est):\n",
    "    error=0\n",
    "    for i in range(60):\n",
    "        if labels_est[i]!=test_labels[i]:\n",
    "            error=error+1\n",
    "    error=error/60\n",
    "    print(\"The error is \",error)\n",
    "    return error"
   ]
  },
  {
   "cell_type": "code",
   "execution_count": 290,
   "metadata": {},
   "outputs": [
    {
     "name": "stdout",
     "output_type": "stream",
     "text": [
      "The estimated labels of the test images is: [0, 1, 1, 1, 1, 1, 0, 1, 0, 0, 1, 0, 1, 0, 1, 0, 0, 1, 1, 0, 0, 0, 1, 1, 0, 0, 1, 1, 1, 1, 1, 0, 1, 0, 0, 1, 0, 1, 0, 1, 0, 0, 1, 1, 0, 0, 0, 1, 1, 0, 0, 0, 1, 1, 1, 1, 1, 0, 1, 0]\n",
      "The error is  0.0\n"
     ]
    },
    {
     "data": {
      "image/png": "[encoded data removed]",
      "text/plain": [
       "<Figure size 432x288 with 1 Axes>"
      ]
     },
     "metadata": {},
     "output_type": "display_data"
    }
   ],
   "source": [
    "TIB_2D_ftr=mat(TIB_2D_ftr)\n",
    "testIB_2D_ftr=mat(testIB_2D_ftr)\n",
    "labels_est_2D=kNN(5,testIB_2D_ftr,TIB_2D_ftr)\n",
    "error_2D=find_error(labels_est_2D)\n",
    "for i in range(60):\n",
    "    if labels_est_2D[i]==test_labels[i]:\n",
    "        plt.scatter(testIB_2D_ftr[0,i],testIB_2D_ftr[1,i],color='b')\n",
    "    else:\n",
    "        plt.scatter(testIB_2D_ftr[0,i],testIB_2D_ftr[1,i],color='black')"
   ]
  },
  {
   "cell_type": "code",
   "execution_count": 291,
   "metadata": {},
   "outputs": [
    {
     "name": "stdout",
     "output_type": "stream",
     "text": [
      "r= 14\n"
     ]
    }
   ],
   "source": [
    "sum0=0\n",
    "for i in range(64):\n",
    "    for j in range(60):\n",
    "        sum0=sum0+np.square(testIBT)[i,j]\n",
    "r=0\n",
    "for i in range(len(Sigma_test)):\n",
    "    sum=0\n",
    "    for j in range(i+1):\n",
    "        sum=sum+Sigma_test[j]**2\n",
    "    r=r+1\n",
    "    if sum/sum0>=0.95:\n",
    "        break;\n",
    "print(\"r=\",r)\n",
    "TIB_rD_ftr=Us[:,0:r].T*TIBT\n",
    "testIB_rD_ftr=Us_test[:,0:r].T*testIBT"
   ]
  },
  {
   "cell_type": "code",
   "execution_count": 304,
   "metadata": {},
   "outputs": [
    {
     "name": "stdout",
     "output_type": "stream",
     "text": [
      "k= 1 :\n",
      "The estimated labels of the test images is: [0, 0, 1, 1, 1, 0, 0, 1, 0, 0, 1, 0, 1, 0, 1, 0, 0, 1, 1, 0, 0, 0, 1, 1, 0, 0, 1, 1, 1, 1, 1, 0, 1, 0, 0, 1, 0, 1, 0, 1, 0, 0, 1, 1, 0, 0, 0, 1, 1, 0, 0, 0, 1, 1, 1, 1, 1, 0, 1, 0]\n",
      "The error is  0.03333333333333333\n",
      "\n",
      "\n",
      "k= 3 :\n",
      "The estimated labels of the test images is: [0, 0, 1, 1, 1, 0, 0, 1, 0, 0, 1, 0, 1, 0, 1, 0, 0, 1, 1, 0, 0, 0, 1, 1, 0, 0, 1, 1, 1, 1, 1, 0, 1, 0, 0, 1, 0, 1, 0, 1, 0, 0, 1, 1, 0, 0, 0, 1, 1, 0, 0, 0, 1, 1, 1, 1, 1, 0, 1, 0]\n",
      "The error is  0.03333333333333333\n",
      "\n",
      "\n",
      "k= 5 :\n",
      "The estimated labels of the test images is: [0, 0, 1, 1, 1, 0, 0, 1, 0, 0, 1, 0, 1, 0, 1, 0, 0, 1, 1, 0, 0, 0, 1, 1, 0, 0, 1, 1, 1, 1, 1, 0, 1, 0, 0, 1, 0, 1, 0, 1, 0, 0, 1, 1, 0, 0, 0, 1, 1, 0, 0, 0, 1, 1, 1, 1, 1, 0, 1, 0]\n",
      "The error is  0.03333333333333333\n",
      "\n",
      "\n",
      "k= 7 :\n",
      "The estimated labels of the test images is: [0, 0, 1, 1, 1, 0, 0, 1, 0, 0, 1, 0, 1, 0, 1, 0, 0, 1, 1, 0, 0, 0, 1, 1, 0, 0, 1, 1, 1, 1, 1, 0, 1, 0, 0, 1, 0, 1, 0, 1, 0, 0, 1, 1, 0, 0, 0, 1, 1, 0, 0, 0, 1, 1, 1, 1, 1, 0, 1, 0]\n",
      "The error is  0.03333333333333333\n",
      "\n",
      "\n",
      "k= 9 :\n",
      "The estimated labels of the test images is: [0, 0, 1, 1, 1, 0, 0, 1, 0, 0, 1, 0, 1, 0, 1, 0, 0, 1, 1, 0, 0, 0, 1, 1, 0, 0, 1, 1, 1, 1, 1, 0, 1, 0, 0, 1, 0, 1, 0, 1, 0, 0, 1, 1, 0, 0, 0, 1, 1, 0, 0, 0, 1, 1, 1, 1, 1, 0, 1, 0]\n",
      "The error is  0.03333333333333333\n",
      "\n",
      "\n"
     ]
    },
    {
     "data": {
      "text/plain": [
       "[0.03333333333333333,\n",
       " 0.03333333333333333,\n",
       " 0.03333333333333333,\n",
       " 0.03333333333333333,\n",
       " 0.03333333333333333]"
      ]
     },
     "execution_count": 304,
     "metadata": {},
     "output_type": "execute_result"
    },
    {
     "data": {
      "image/png": "[encoded data removed]",
      "text/plain": [
       "<Figure size 432x288 with 1 Axes>"
      ]
     },
     "metadata": {},
     "output_type": "display_data"
    }
   ],
   "source": [
    "TIB_rD_ftr=mat(TIB_rD_ftr)\n",
    "testIB_rD_ftr=mat(testIB_rD_ftr)\n",
    "k=[1,3,5,7,9]\n",
    "error_rD=[0 for j in range(5)]\n",
    "for i in k:\n",
    "    print(\"k=\",i,\":\")\n",
    "    labels_est_rD=kNN(i,testIB_rD_ftr,TIB_rD_ftr)\n",
    "    error_rD[(i-1)//2]=find_error(labels_est_rD)\n",
    "    print(\"\\n\")\n",
    "plt.plot(k,error_rD, color='r', linewidth=1, alpha=0.6)\n",
    "error_rD"
   ]
  },
  {
   "cell_type": "markdown",
   "metadata": {},
   "source": [
    "In this particular problem,the error is same when k=1,3,5,7,9.In general problems,if k is too small,the boundary becomes too irregular;if k is too large,the boundary becomes a straight line."
   ]
  },
  {
   "cell_type": "code",
   "execution_count": null,
   "metadata": {},
   "outputs": [],
   "source": []
  }
 ],
 "metadata": {
  "kernelspec": {
   "display_name": "Python 3",
   "language": "python",
   "name": "python3"
  },
  "language_info": {
   "codemirror_mode": {
    "name": "ipython",
    "version": 3
   },
   "file_extension": ".py",
   "mimetype": "text/x-python",
   "name": "python",
   "nbconvert_exporter": "python",
   "pygments_lexer": "ipython3",
   "version": "3.6.5"
  }
 },
 "nbformat": 4,
 "nbformat_minor": 2
}
