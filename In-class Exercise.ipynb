{
 "cells": [
  {
   "cell_type": "code",
   "execution_count": 38,
   "metadata": {},
   "outputs": [],
   "source": [
    "#library import\n",
    "\n",
    "import numpy as np\n",
    "import math\n",
    "from numpy import linalg as la\n",
    "from sklearn.datasets import load_boston\n",
    "import matplotlib.pyplot as plt\n",
    "\n",
    "data,labels=load_boston(return_X_y=True)"
   ]
  },
  {
   "cell_type": "code",
   "execution_count": 39,
   "metadata": {},
   "outputs": [],
   "source": [
    "n,m=np.shape(data)\n",
    "labels=np.mat(labels).astype(np.float64).T\n",
    "data=np.mat(data).astype(np.float64)"
   ]
  },
  {
   "cell_type": "code",
   "execution_count": 40,
   "metadata": {},
   "outputs": [
    {
     "name": "stdout",
     "output_type": "stream",
     "text": [
      "LS Solution:\n",
      "Run  1 :\n",
      "Regression Error= 35.66673849733066\n",
      "Run  2 :\n",
      "Regression Error= 51.10381296253176\n",
      "Run  3 :\n",
      "Regression Error= 58.50199892080734\n",
      "Run  4 :\n",
      "Regression Error= 90.00824465337877\n",
      "Run  5 :\n",
      "Regression Error= 58.083680171050446\n",
      "Overall Performance:\n",
      "Regression Error= 58.6728950410198\n"
     ]
    },
    {
     "data": {
      "image/png": "[encoded data removed]",
      "text/plain": [
       "<Figure size 432x288 with 1 Axes>"
      ]
     },
     "metadata": {
      "needs_background": "light"
     },
     "output_type": "display_data"
    }
   ],
   "source": [
    "#Cross Validation\n",
    "\n",
    "def K_fold_CV_LS(samples,labels,k:int):\n",
    "    print(\"LS Solution:\")\n",
    "    n,m=np.shape(samples)\n",
    "    samples_with_labels=np.mat([[0 for i in range(m+2)] for j in range(n)]).astype(np.float64)\n",
    "    samples_with_labels[:,:m]=samples\n",
    "    samples_with_labels[:,m]=1\n",
    "    samples_with_labels[:,m+1]=labels\n",
    "    a=n//k\n",
    "    fold=[0 for i in range(k)]\n",
    "    labels_derived=np.mat([0 for i in range(n)]).astype(np.float64).T\n",
    "    for i in range(k-1):\n",
    "        fold[i]=samples_with_labels[i*a:(i+1)*a,:].astype(np.float64)\n",
    "    fold[k-1]=samples_with_labels[(k-1)*a:,:].astype(np.float64)\n",
    "    error=[0 for i in range(k)]\n",
    "    for i in range(k):\n",
    "        print(\"Run \",i+1,\":\")\n",
    "        test_samples=fold[i].astype(np.float64)\n",
    "        ni,mi=np.shape(fold[i])\n",
    "        training_samples=np.mat([[0 for j in range(mi)] for i in range(n-ni)]).astype(np.float64)\n",
    "        sample_number=0\n",
    "        for j in range(k):\n",
    "            if j==i:\n",
    "                continue\n",
    "            nj,mj=np.shape(fold[j])\n",
    "            training_samples[sample_number:sample_number+nj,:]=fold[j]\n",
    "            sample_number=sample_number+nj\n",
    "            \n",
    "        # LS solution\n",
    "        omega=np.mat([0 for i in range(mi)]).astype(np.float64)\n",
    "        omega=(training_samples[:,:m+1].T*training_samples[:,:m+1]).I*training_samples[:,:m+1].T*training_samples[:,m+1]\n",
    "        labels_telda=test_samples[:,:m+1]*omega\n",
    "        if(i==k-1):\n",
    "            labels_derived [(k-1)*a:,:]=labels_telda\n",
    "        else:\n",
    "            labels_derived[i*a:(i+1)*a,:]=labels_telda\n",
    "        error[i]=la.norm(labels_telda-test_samples[:,m+1],2)\n",
    "        print(\"Regression Error=\",error[i])\n",
    "    print(\"Overall Performance:\\nRegression Error=\",np.mean(error))\n",
    "    labels_derived=np.array(labels_derived).astype(np.float64)\n",
    "    labels=np.array(labels).astype(np.float64)\n",
    "    plt.scatter(labels_derived,labels,color='b')\n",
    "    plt.xlabel(\"Predicted\") \n",
    "    plt.ylabel(\"Measured\")\n",
    "    plt.title(\"Measured versus Predicted\")\n",
    "    plt.plot([0,max(labels)],[0,max(labels)], color='r', linewidth=1, alpha=0.6)\n",
    "        \n",
    "K_fold_CV_LS(data,labels,5)"
   ]
  },
  {
   "cell_type": "code",
   "execution_count": 41,
   "metadata": {},
   "outputs": [],
   "source": [
    "#Cross Validation\n",
    "\n",
    "def K_fold_CV_RR(samples,labels,k:int):\n",
    "    print(\"RR Solution\")\n",
    "    n,m=np.shape(samples)\n",
    "    samples_with_labels=np.mat([[0 for i in range(m+2)] for j in range(n)]).astype(np.float64)\n",
    "    samples_with_labels[:,:m]=samples\n",
    "    samples_with_labels[:,m]=1\n",
    "    samples_with_labels[:,m+1]=labels\n",
    "    a=n//k\n",
    "    fold=[0 for i in range(k)]\n",
    "    Omega=np.mat([[0 for i in range(k)] for j in range(m+1)]).astype(np.float64)\n",
    "    Lambda=np.linspace(0,99,100)\n",
    "    result=[[0 for j in range(k)] for i in range(100)]\n",
    "    for i in range(k-1):\n",
    "        fold[i]=samples_with_labels[i*a:(i+1)*a,:].astype(np.float64)\n",
    "    fold[k-1]=samples_with_labels[(k-1)*a:,:].astype(np.float64)\n",
    "    \n",
    "    for l in range(100):\n",
    "        for i in range(k):\n",
    "            test_samples=fold[i].astype(np.float64)\n",
    "            ni,mi=np.shape(fold[i])\n",
    "            training_samples=np.mat([[0 for j in range(mi)] for i in range(n-ni)]).astype(np.float64)\n",
    "            sample_number=0\n",
    "            for j in range(k):\n",
    "                if j==i:\n",
    "                    continue\n",
    "                nj,mj=np.shape(fold[j])\n",
    "                training_samples[sample_number:sample_number+nj,:]=fold[j]\n",
    "                sample_number=sample_number+nj\n",
    "            \n",
    "            # RR solution\n",
    "            omega=np.mat([0 for i in range(mi)]).astype(np.float64)\n",
    "            omega=(training_samples[:,:m+1].T*training_samples[:,:m+1]+Lambda[l]*np.eye(m+1,dtype=np.float64)).I*training_samples[:,:m+1].T*training_samples[:,m+1]\n",
    "            Omega[:,i]=omega\n",
    "            labels_telda=test_samples[:,:m+1]*omega\n",
    "            result[l][i]=la.norm(labels_telda-np.mat(fold[k-1]).astype(np.float64)[:,m+1],2)\n",
    "    result_average=[0 for i in range(100)]\n",
    "    for i in range(100):\n",
    "        result_average[i]=np.mean(np.mat(result)[i,:])\n",
    "    plt.plot(Lambda,result_average)\n",
    "    plt.xlabel(\"Lambda\")\n",
    "    plt.ylabel(\"RR Error\")\n",
    "    return Lambda[result_average.index(min(result_average))]"
   ]
  },
  {
   "cell_type": "code",
   "execution_count": 42,
   "metadata": {},
   "outputs": [
    {
     "name": "stdout",
     "output_type": "stream",
     "text": [
      "RR Solution\n",
      "Result(Test with the left fold): 35.16965637339011\n"
     ]
    },
    {
     "data": {
      "image/png": "[encoded data removed]",
      "text/plain": [
       "<Figure size 432x288 with 1 Axes>"
      ]
     },
     "metadata": {
      "needs_background": "light"
     },
     "output_type": "display_data"
    }
   ],
   "source": [
    "Lambda=K_fold_CV_RR(data[:400,:],labels[:400],5)\n",
    "data_hat=np.mat([[0 for i in range(m+1)] for j in range(n-400)]).astype(np.float64)\n",
    "data_hat[:,:m]=data[400:,:]\n",
    "data_hat[:,m]=1\n",
    "omega_overall=(data_hat.T*data_hat+Lambda*np.eye(m+1,dtype=np.float64)).I*data_hat.T*labels[400:]\n",
    "labels_predicted=data_hat*omega_overall\n",
    "print(\"Result(Test with the left fold):\",la.norm(labels_predicted-labels[400:],2))"
   ]
  },
  {
   "cell_type": "code",
   "execution_count": null,
   "metadata": {},
   "outputs": [],
   "source": []
  }
 ],
 "metadata": {
  "kernelspec": {
   "display_name": "Python 3",
   "language": "python",
   "name": "python3"
  },
  "language_info": {
   "codemirror_mode": {
    "name": "ipython",
    "version": 3
   },
   "file_extension": ".py",
   "mimetype": "text/x-python",
   "name": "python",
   "nbconvert_exporter": "python",
   "pygments_lexer": "ipython3",
   "version": "3.7.0"
  }
 },
 "nbformat": 4,
 "nbformat_minor": 2
}
