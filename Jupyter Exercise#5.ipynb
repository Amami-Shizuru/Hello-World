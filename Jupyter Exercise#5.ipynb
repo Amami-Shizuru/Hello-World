{
 "cells": [
  {
   "cell_type": "code",
   "execution_count": 145,
   "metadata": {},
   "outputs": [],
   "source": [
    "from numpy import *\n",
    "import numpy as np\n",
    "from numpy import linalg as la\n",
    "import matplotlib.pyplot as plt\n",
    "import math"
   ]
  },
  {
   "cell_type": "markdown",
   "metadata": {},
   "source": [
    "### Wine dataset"
   ]
  },
  {
   "cell_type": "code",
   "execution_count": 146,
   "metadata": {},
   "outputs": [],
   "source": [
    "from sklearn.datasets import load_wine\n",
    "samples, labels = load_wine(return_X_y=True)\n",
    "samples=mat(samples).astype(np.float64)\n",
    "samples=samples.T\n",
    "m,n=np.shape(samples)"
   ]
  },
  {
   "cell_type": "markdown",
   "metadata": {},
   "source": [
    "### Standardization of Data"
   ]
  },
  {
   "cell_type": "code",
   "execution_count": 147,
   "metadata": {},
   "outputs": [],
   "source": [
    "def center(samples):\n",
    "    m,n=np.shape(samples)\n",
    "    mean=samples.mean(axis=1)\n",
    "    mu=mat([[0 for j in range(n)] for k in range(m)]).astype(float64)\n",
    "    for i in range(m):\n",
    "        mu[i,:]=mean[i]\n",
    "    samples_centered=samples-mu\n",
    "    return mat(samples_centered).astype(float64)"
   ]
  },
  {
   "cell_type": "code",
   "execution_count": 148,
   "metadata": {},
   "outputs": [],
   "source": [
    "def normalize(samples):\n",
    "    m,n=np.shape(samples)\n",
    "    std=samples.std(axis=1)\n",
    "    samples_normalized=mat([[0 for i in range(m)] for j in range(n)]).astype(np.float64)\n",
    "    samples_normalized=samples/std\n",
    "    return mat(samples_normalized).astype(float64)"
   ]
  },
  {
   "cell_type": "code",
   "execution_count": 149,
   "metadata": {},
   "outputs": [],
   "source": [
    "def standardize(samples):\n",
    "    m,n=np.shape(samples)\n",
    "    samples_centered=center(samples)\n",
    "    samples_standardized=normalize(samples_centered)\n",
    "    for i in range(m):\n",
    "        print(\"Raw \",i+1,\": Mean=\",samples_standardized[i,:].mean(),\"Var=\",np.var(samples_standardized[i,:]))\n",
    "    return mat(samples_standardized).astype(float64)"
   ]
  },
  {
   "cell_type": "code",
   "execution_count": 150,
   "metadata": {},
   "outputs": [],
   "source": [
    "def my_PCA(samples,k):\n",
    "    U,Sigma,V=la.svd(samples)\n",
    "    samples_PCA=U[:,0:k].T*samples_centered\n",
    "    return samples_PCA.astype(float64)"
   ]
  },
  {
   "cell_type": "code",
   "execution_count": 183,
   "metadata": {},
   "outputs": [
    {
     "data": {
      "image/png": "[encoded data removed]",
      "text/plain": [
       "<Figure size 432x288 with 1 Axes>"
      ]
     },
     "metadata": {
      "needs_background": "light"
     },
     "output_type": "display_data"
    }
   ],
   "source": [
    "samples_centered=mat([[0 for j in range(n)] for i in range(m)])\n",
    "samples_centered=center(samples)\n",
    "samples_centered_PCA=my_PCA(samples_centered,2)\n",
    "for i in range(n):\n",
    "    if labels[i]==0:\n",
    "        plt.scatter(samples_centered_PCA[0,i],samples_centered_PCA[1,i],color='r',marker='s')\n",
    "    elif labels[i]==1:\n",
    "        plt.scatter(samples_centered_PCA[0,i],samples_centered_PCA[1,i],color='g',marker='^')\n",
    "    else:\n",
    "        plt.scatter(samples_centered_PCA[0,i],samples_centered_PCA[1,i],color='b',marker='o')"
   ]
  },
  {
   "cell_type": "code",
   "execution_count": 184,
   "metadata": {},
   "outputs": [
    {
     "name": "stdout",
     "output_type": "stream",
     "text": [
      "Raw  1 : Mean= 7.903789982050553e-15 Var= 1.0\n",
      "Raw  2 : Mean= 3.193450497798203e-16 Var= 1.0000000000000002\n",
      "Raw  3 : Mean= -4.0679070598906016e-15 Var= 1.0000000000000002\n",
      "Raw  4 : Mean= -3.991813122247754e-17 Var= 1.0\n",
      "Raw  5 : Mean= -3.991813122247754e-17 Var= 1.0\n",
      "Raw  6 : Mean= 0.0 Var= 0.9999999999999999\n",
      "Raw  7 : Mean= 9.979532805619385e-16 Var= 1.0\n",
      "Raw  8 : Mean= -5.588538371146855e-16 Var= 1.0\n",
      "Raw  9 : Mean= -1.6965205769552954e-15 Var= 1.0000000000000002\n",
      "Raw  10 : Mean= -3.4429388179386877e-16 Var= 1.0\n",
      "Raw  11 : Mean= 1.6765615113440566e-15 Var= 1.0\n",
      "Raw  12 : Mean= 2.1954972172362645e-15 Var= 1.0\n",
      "Raw  13 : Mean= -1.5967252488991015e-16 Var= 1.0\n"
     ]
    },
    {
     "data": {
      "image/png": "[encoded data removed]",
      "text/plain": [
       "<Figure size 432x288 with 1 Axes>"
      ]
     },
     "metadata": {
      "needs_background": "light"
     },
     "output_type": "display_data"
    }
   ],
   "source": [
    "samples_standardized=mat([[0 for j in range(n)] for i in range(m)])\n",
    "samples_standardized=standardize(samples)\n",
    "samples_standardized_PCA=my_PCA(samples_standardized,2)\n",
    "for i in range(n):\n",
    "    if labels[i]==0:\n",
    "        plt.scatter(samples_standardized_PCA[0,i],samples_standardized_PCA[1,i],color='r',marker='s')\n",
    "    elif labels[i]==1:\n",
    "        plt.scatter(samples_standardized_PCA[0,i],samples_standardized_PCA[1,i],color='g',marker='^')\n",
    "    else:\n",
    "        plt.scatter(samples_standardized_PCA[0,i],samples_standardized_PCA[1,i],color='b',marker='o')"
   ]
  },
  {
   "cell_type": "markdown",
   "metadata": {},
   "source": [
    "Standardized data should have better performance."
   ]
  },
  {
   "cell_type": "code",
   "execution_count": 194,
   "metadata": {},
   "outputs": [],
   "source": [
    "def NBClassifier_2D_3Classes(training_samples,training_labels):\n",
    "    n=len(training_labels)\n",
    "    count0=list(training_labels).count(0)\n",
    "    count1=list(training_labels).count(1)\n",
    "    count2=list(training_labels).count(2)\n",
    "    samples_0=mat([[0 for i in range(count0)] for j in range(2)]).astype(np.float64)\n",
    "    samples_1=mat([[0 for i in range(count1)] for j in range(2)]).astype(np.float64)\n",
    "    samples_2=mat([[0 for i in range(count2)] for j in range(2)]).astype(np.float64)\n",
    "    j=0\n",
    "    k=0\n",
    "    l=0\n",
    "    for i in range(n):\n",
    "        if training_labels[i]==0:\n",
    "            samples_0[0,j]=training_samples[0,i]\n",
    "            samples_0[1,j]=training_samples[1,i]\n",
    "            j=j+1\n",
    "        elif training_labels[i]==1:\n",
    "            samples_1[0,k]=training_samples[0,i]\n",
    "            samples_1[1,k]=training_samples[1,i]\n",
    "            k=k+1\n",
    "        else:\n",
    "            samples_2[0,l]=training_samples[0,i]\n",
    "            samples_2[1,l]=training_samples[1,i]\n",
    "            l=l+1\n",
    "    mean_0=samples_0.mean(axis=1)\n",
    "    var_0=samples_0.var(axis=1)\n",
    "    mean_1=samples_1.mean(axis=1)\n",
    "    var_1=samples_1.var(axis=1)\n",
    "    mean_2=samples_2.mean(axis=1)\n",
    "    var_2=samples_2.var(axis=1)\n",
    "    return [mean_0,var_0,mean_1,var_1,mean_2,var_2]"
   ]
  },
  {
   "cell_type": "code",
   "execution_count": 191,
   "metadata": {},
   "outputs": [],
   "source": [
    "def Gaussian(x,mean,var):\n",
    "    return 1/(math.sqrt(2*math.pi*var))*math.exp(-1/2*(x-mean)*(x-mean)/var)"
   ]
  },
  {
   "cell_type": "code",
   "execution_count": 192,
   "metadata": {},
   "outputs": [],
   "source": [
    "def NBclassification_2D_3classes(mean_0,var_0,mean_1,var_1,mean_2,var_2,test_samples):\n",
    "    m,n=np.shape(test_samples)\n",
    "    derived_labels=[0 for i in range(n)]\n",
    "    for i in range(n):\n",
    "        Pr0=Gaussian(test_samples[0,i],mean_0[0],var_0[0])*Gaussian(test_samples[1,i],mean_0[1],var_0[1])\n",
    "        Pr1=Gaussian(test_samples[0,i],mean_1[0],var_1[0])*Gaussian(test_samples[1,i],mean_1[1],var_1[1])\n",
    "        Pr2=Gaussian(test_samples[0,i],mean_2[0],var_2[0])*Gaussian(test_samples[1,i],mean_2[1],var_2[1])\n",
    "        if max(Pr0,Pr1,Pr2)==Pr0:\n",
    "            derived_labels[i]=0\n",
    "        elif max(Pr0,Pr1,Pr2)==Pr1:\n",
    "            derived_labels[i]=1\n",
    "        else:\n",
    "            derived_labels[i]=2\n",
    "    return derived_labels"
   ]
  },
  {
   "cell_type": "code",
   "execution_count": 246,
   "metadata": {},
   "outputs": [],
   "source": [
    "def K_fold_CV_2D_3classes(samples,labels,k:int):\n",
    "    m,n=np.shape(samples)\n",
    "    samples_with_labels=mat([[0 for i in range(n)] for j in range(m+1)]).astype(np.float64)\n",
    "    samples_with_labels[:m,:]=samples\n",
    "    samples_with_labels[m,:]=labels\n",
    "    a=n//k\n",
    "    fold=[0 for i in range(k)]\n",
    "    for i in range(k-1):\n",
    "        fold[i]=samples_with_labels[:,i*a:(i+1)*a].astype(np.float64)\n",
    "    fold[k-1]=samples_with_labels[:,(k-1)*a:].astype(np.float64)\n",
    "    error_number=[0 for i in range(k)]\n",
    "    accuracy=[0 for i in range(k)]\n",
    "    \n",
    "    for i in range(k):\n",
    "        print(\"Run \",i+1,\":\")\n",
    "        test_samples=fold[i].astype(np.float64)\n",
    "        mi,ni=np.shape(fold[i])\n",
    "        training_samples=mat([[0 for j in range(n-ni)] for i in range(m+1)]).astype(np.float64)\n",
    "        sample_number=0\n",
    "        for j in range(k):\n",
    "            if j==i:\n",
    "                continue\n",
    "            mj,nj=np.shape(fold[j])\n",
    "            training_samples[:,sample_number:sample_number+nj]=fold[j]\n",
    "            sample_number=sample_number+nj\n",
    "        mean_0,var_0,mean_1,var_1,mean_2,var_2=NBClassifier_2D_3Classes(training_samples[:m,:],training_samples[m,:].T)\n",
    "        derived_labels=NBclassification_2D_3classes(mean_0,var_0,mean_1,var_1,mean_2,var_2,test_samples)\n",
    "        for l in range(ni):\n",
    "            if derived_labels[l]!=test_samples[m,l]:\n",
    "                error_number[i]=error_number[i]+1\n",
    "        accuracy[i]=1-error_number[i]/n\n",
    "        print(error_number[i],\" Errors,Accuracy\",accuracy[i]*100,\"%\")\n",
    "    \n",
    "    print(\"\\nOverall Performance:\\nMean of Accuracy:\",mean(accuracy)*100,\"%\\nVariance of Accuracy:\",np.var(accuracy))"
   ]
  },
  {
   "cell_type": "code",
   "execution_count": 248,
   "metadata": {},
   "outputs": [
    {
     "name": "stdout",
     "output_type": "stream",
     "text": [
      "Case 1:Data Centered Only:\n",
      "\n",
      "Run  1 :\n",
      "3  Errors,Accuracy 98.31460674157303 %\n",
      "Run  2 :\n",
      "7  Errors,Accuracy 96.06741573033707 %\n",
      "Run  3 :\n",
      "11  Errors,Accuracy 93.82022471910112 %\n",
      "Run  4 :\n",
      "6  Errors,Accuracy 96.62921348314607 %\n",
      "Run  5 :\n",
      "15  Errors,Accuracy 91.57303370786516 %\n",
      "\n",
      "Overall Performance:\n",
      "Mean of Accuracy: 95.28089887640449 %\n",
      "Variance of Accuracy: 0.0005504355510667842\n",
      "\n",
      "\n",
      "Case 2:Data Standardized:\n",
      "\n",
      "Run  1 :\n",
      "3  Errors,Accuracy 98.31460674157303 %\n",
      "Run  2 :\n",
      "8  Errors,Accuracy 95.50561797752809 %\n",
      "Run  3 :\n",
      "15  Errors,Accuracy 91.57303370786516 %\n",
      "Run  4 :\n",
      "8  Errors,Accuracy 95.50561797752809 %\n",
      "Run  5 :\n",
      "19  Errors,Accuracy 89.32584269662921 %\n",
      "\n",
      "Overall Performance:\n",
      "Mean of Accuracy: 94.04494382022473 %\n",
      "Variance of Accuracy: 0.0010175482893574042\n",
      "\n",
      "\n",
      "Case 3:Data Standardized with sklearn:\n",
      "\n",
      "Run  1 :\n",
      "3  Errors,Accuracy 98.31460674157303 %\n",
      "Run  2 :\n",
      "14  Errors,Accuracy 92.13483146067416 %\n",
      "Run  3 :\n",
      "35  Errors,Accuracy 80.33707865168539 %\n",
      "Run  4 :\n",
      "35  Errors,Accuracy 80.33707865168539 %\n",
      "Run  5 :\n",
      "35  Errors,Accuracy 80.33707865168539 %\n",
      "\n",
      "Overall Performance:\n",
      "Mean of Accuracy: 86.29213483146067 %\n",
      "Variance of Accuracy: 0.005701300340866054\n"
     ]
    },
    {
     "name": "stderr",
     "output_type": "stream",
     "text": [
      "D:\\ProgramData\\Anaconda3\\lib\\site-packages\\sklearn\\utils\\validation.py:578: DataConversionWarning: A column-vector y was passed when a 1d array was expected. Please change the shape of y to (n_samples, ), for example using ravel().\n",
      "  y = column_or_1d(y, warn=True)\n"
     ]
    }
   ],
   "source": [
    "print(\"Case 1:Data Centered Only:\\n\")\n",
    "K_fold_CV_2D_3classes(samples_centered_PCA,labels,5)\n",
    "print(\"\\n\\nCase 2:Data Standardized:\\n\")\n",
    "K_fold_CV_2D_3classes(samples_standardized_PCA,labels,5)\n",
    "\n",
    "from sklearn.naive_bayes import GaussianNB\n",
    "print(\"\\n\\nCase 3:Data Standardized with sklearn:\\n\")\n",
    "m,n=np.shape(samples_standardized_PCA)\n",
    "k=5\n",
    "samples_with_labels=mat([[0 for i in range(n)] for j in range(m+1)]).astype(np.float64)\n",
    "samples_with_labels[:m,:]=samples_standardized_PCA\n",
    "samples_with_labels[m,:]=labels\n",
    "a=n//k\n",
    "fold=[0 for i in range(k)]\n",
    "for i in range(k-1):\n",
    "    fold[i]=samples_with_labels[:,i*a:(i+1)*a].astype(np.float64)\n",
    "fold[k-1]=samples_with_labels[:,(k-1)*a:].astype(np.float64)\n",
    "error_number=[0 for i in range(k)]\n",
    "accuracy=[0 for i in range(k)]\n",
    "    \n",
    "for i in range(k):\n",
    "    print(\"Run \",i+1,\":\")\n",
    "    test_samples=fold[i].astype(np.float64)\n",
    "    mi,ni=np.shape(fold[i])\n",
    "    training_samples=mat([[0 for j in range(n-ni)] for i in range(m+1)]).astype(np.float64)\n",
    "    sample_number=0\n",
    "    for j in range(k):\n",
    "        if j==i:\n",
    "            continue\n",
    "        mj,nj=np.shape(fold[j])\n",
    "        training_samples[:,sample_number:sample_number+nj]=fold[j]\n",
    "        sample_number=sample_number+nj\n",
    "    clf = GaussianNB()\n",
    "    clf.fit(array(training_samples[:m,:].T),array(training_samples[m,:].T))\n",
    "    derived=array([0 for l in range(ni)])\n",
    "    for l in range(ni):\n",
    "        derived[l]=clf.predict(test_samples[:m,l])[0]\n",
    "        if derived_labels[l]!=test_samples[m,l]:\n",
    "            error_number[i]=error_number[i]+1\n",
    "    accuracy[i]=1-error_number[i]/n\n",
    "    print(error_number[i],\" Errors,Accuracy\",accuracy[i]*100,\"%\")\n",
    "    \n",
    "print(\"\\nOverall Performance:\\nMean of Accuracy:\",mean(accuracy)*100,\"%\\nVariance of Accuracy:\",np.var(accuracy))"
   ]
  },
  {
   "cell_type": "markdown",
   "metadata": {},
   "source": []
  }
 ],
 "metadata": {
  "kernelspec": {
   "display_name": "Python 3",
   "language": "python",
   "name": "python3"
  },
  "language_info": {
   "codemirror_mode": {
    "name": "ipython",
    "version": 3
   },
   "file_extension": ".py",
   "mimetype": "text/x-python",
   "name": "python",
   "nbconvert_exporter": "python",
   "pygments_lexer": "ipython3",
   "version": "3.7.0"
  }
 },
 "nbformat": 4,
 "nbformat_minor": 2
}
